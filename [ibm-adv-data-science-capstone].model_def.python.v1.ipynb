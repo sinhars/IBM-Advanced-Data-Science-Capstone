{
 "metadata": {
  "language_info": {
   "codemirror_mode": {
    "name": "ipython",
    "version": 3
   },
   "file_extension": ".py",
   "mimetype": "text/x-python",
   "name": "python",
   "nbconvert_exporter": "python",
   "pygments_lexer": "ipython3",
   "version": "3.9.1"
  },
  "orig_nbformat": 2,
  "kernelspec": {
   "name": "pythonjvsc74a57bd0f7177c0ae9b5f17be49d5fee0218316f97afdf27c50d7946af4bb7924b3b993c",
   "display_name": "Python 3.9.1  ('.ibm_adv': venv)"
  },
  "metadata": {
   "interpreter": {
    "hash": "f7177c0ae9b5f17be49d5fee0218316f97afdf27c50d7946af4bb7924b3b993c"
   }
  }
 },
 "nbformat": 4,
 "nbformat_minor": 2,
 "cells": [
  {
   "source": [
    "# IBM Advanced Data Science Capstone Project\n",
    "## Sentiment Analysis of Amazon Customer Reviews\n",
    "### Harsh V Singh, Apr 2021"
   ],
   "cell_type": "markdown",
   "metadata": {}
  },
  {
   "source": [
    "## Model Definition\n",
    "\n",
    "In this notebook, we will define the machine learning model that will be used to train and predict the sentiment of an Amazon customer's review given its review heading and text. We have already preprocessed the raw data into a training set containing tokenized and vectorized features of the review text content along with a binary review sentiment which is 1 for positive and 0 for negative reviews."
   ],
   "cell_type": "markdown",
   "metadata": {}
  },
  {
   "source": [
    "## Importing required Python libraries and initializing Apache Spark environment"
   ],
   "cell_type": "markdown",
   "metadata": {}
  },
  {
   "cell_type": "code",
   "execution_count": 1,
   "metadata": {},
   "outputs": [
    {
     "output_type": "stream",
     "name": "stdout",
     "text": [
      "INFO:tensorflow:Enabling eager execution\n",
      "INFO:tensorflow:Enabling v2 tensorshape\n",
      "INFO:tensorflow:Enabling resource variables\n",
      "INFO:tensorflow:Enabling tensor equality\n",
      "INFO:tensorflow:Enabling control flow v2\n"
     ]
    }
   ],
   "source": [
    "import numpy as np\n",
    "import pandas as pd\n",
    "import math\n",
    "import time\n",
    "import datetime\n",
    "from pathlib import Path\n",
    "import pickle\n",
    "from scipy import sparse\n",
    "import matplotlib.pyplot as plt\n",
    "%matplotlib inline\n",
    "import seaborn as sns\n",
    "\n",
    "import sklearn\n",
    "from sklearn.naive_bayes import ComplementNB\n",
    "from sklearn.model_selection import train_test_split\n",
    "\n",
    "import tensorflow as tf\n",
    "from keras.models import Sequential\n",
    "from keras.layers import Dense, Dropout, Activation, LSTM, Masking, Embedding\n",
    "from keras.callbacks import TensorBoard, ModelCheckpoint\n",
    "from keras import regularizers, optimizers, losses, metrics\n",
    "tf.compat.v1.logging.set_verbosity(tf.compat.v1.logging.ERROR)\n",
    "tf.autograph.set_verbosity(0)\n",
    "\n",
    "import findspark\n",
    "findspark.init()\n",
    "\n",
    "from pyspark import SparkContext, SparkConf\n",
    "from pyspark.sql import SQLContext, SparkSession\n",
    "\n",
    "conf = SparkConf().setMaster(\"local[*]\") \\\n",
    "    .setAll([(\"spark.driver.memory\", \"24g\"),\\\n",
    "             (\"spark.executor.memory\", \"24g\"), \\\n",
    "             (\"spark.driver.maxResultSize\", \"24g\"), \\\n",
    "             (\"spark.executor.heartbeatInterval\", \"3600s\"), \\\n",
    "             (\"spark.network.timeout\", \"7200s\")])\n",
    "sc = SparkContext.getOrCreate(conf=conf)\n",
    "from pyspark.sql import SparkSession\n",
    "spark = SparkSession \\\n",
    "    .builder \\\n",
    "    .getOrCreate()\n",
    "\n",
    "import warnings\n",
    "warnings.filterwarnings(\"ignore\")\n",
    "\n",
    "RUN_SAMPLE_CODE = True\n",
    "TRAIN_FINAL_MODEL = True\n",
    "SEED_NUMBER = 1324"
   ]
  },
  {
   "cell_type": "code",
   "execution_count": 2,
   "metadata": {},
   "outputs": [],
   "source": [
    "# Function to print time taken by a particular process, given the start and end times\n",
    "def printElapsedTime(startTime, endTime):\n",
    "    elapsedTime = endTime - startTime\n",
    "    print(\"-- Process time = %.2f seconds --\"%(elapsedTime))"
   ]
  },
  {
   "source": [
    "## Method 1: Training models using TFIDF vectorized data\n",
    "\n",
    "First, we will use the TFIDF vectorized data to build a baseline Naive Bayes model and then train a neural network with 2 hidden layers."
   ],
   "cell_type": "markdown",
   "metadata": {}
  },
  {
   "source": [
    "### Loading TFIDF train/ test data\n",
    "\n",
    "We will begin by loading the sample train/ test data.\n"
   ],
   "cell_type": "markdown",
   "metadata": {}
  },
  {
   "cell_type": "code",
   "execution_count": 3,
   "metadata": {},
   "outputs": [
    {
     "output_type": "stream",
     "name": "stdout",
     "text": [
      "X_train_tf is of type <class 'scipy.sparse.csr.csr_matrix'> and shape (31932, 75622).\ny_train_tf is of type <class 'numpy.ndarray'>, shape (31932,) and 2 unique classes.\n"
     ]
    }
   ],
   "source": [
    "if RUN_SAMPLE_CODE:\n",
    "    sourceDir = Path(\"data/processedSamples/tfData\")\n",
    "    X_train_tf = sparse.load_npz(str(sourceDir.joinpath(\"X_train.npz\")))\n",
    "    X_test_tf = sparse.load_npz(str(sourceDir.joinpath(\"X_test.npz\")))\n",
    "\n",
    "    X_train_tf.sort_indices()\n",
    "    X_test_tf.sort_indices()\n",
    "\n",
    "    y_train_tf = pd.read_csv(str(sourceDir.joinpath(\"y_train.csv\")))[\"review_sentiment\"].to_numpy()\n",
    "    y_test_tf = pd.read_csv(str(sourceDir.joinpath(\"y_test.csv\")))[\"review_sentiment\"].to_numpy()\n",
    "\n",
    "    print(\"X_train_tf is of type %s and shape %s.\"%(type(X_train_tf), X_train_tf.shape))\n",
    "    print(\"y_train_tf is of type %s, shape %s and %d unique classes.\"%(type(y_train_tf), y_train_tf.shape, len(np.unique(y_train_tf))))"
   ]
  },
  {
   "source": [
    "### Predictions using a Naive Bayes model for setting a performance baseline\n",
    "\n",
    "**ComplementNB** implements the Complement Naive Bayes (CNB) algorithm. CNB is an adaptation of the standard multinomial naive Bayes (MNB) algorithm that is particularly suited for imbalanced data sets. CNB regularly outperforms MNB on text classification tasks so we will be using this model for our baseline."
   ],
   "cell_type": "markdown",
   "metadata": {}
  },
  {
   "cell_type": "code",
   "execution_count": 4,
   "metadata": {},
   "outputs": [
    {
     "output_type": "stream",
     "name": "stdout",
     "text": [
      "ComplementNB Accuracy: 81.16%\n"
     ]
    }
   ],
   "source": [
    "if RUN_SAMPLE_CODE:\n",
    "    tfCNBModel = ComplementNB().fit(X_train_tf, y_train_tf)\n",
    "    print(\"ComplementNB Accuracy: %.2f%%\"%(100 * sklearn.metrics.accuracy_score(y_test_tf, tfCNBModel.predict(X_test_tf))))"
   ]
  },
  {
   "source": [
    "### Predictions using a Multi-layer Perceptron Neural Network\n",
    "\n",
    "We will be using an **MLP** neural network with **two** hidden layers and a **sigmoid** activation for the output layer. We can experiment with the hyperparameters such as *L2 regularization, dropout rate, number of nodes in the hidden layers and the activation functions* to find the best possible combination that gives the best accuracy on the test data."
   ],
   "cell_type": "markdown",
   "metadata": {}
  },
  {
   "cell_type": "code",
   "execution_count": 5,
   "metadata": {},
   "outputs": [],
   "source": [
    "# Plot the model accuracy and loss over the training epochs\n",
    "def plotTrainingPerformance(history, figTitle, figSize=(12,5)):\n",
    "    fig = plt.figure(figsize=figSize)\n",
    "    sns.set_theme()\n",
    "    sns.set_style(\"white\")\n",
    "    \n",
    "    metrics = history.model.metrics_names\n",
    "    xvals = np.arange(len(history.history[metrics[0]])) + 1\n",
    "\n",
    "    for i in range(len(metrics)):\n",
    "        fig.add_subplot(1, len(metrics), i + 1)\n",
    "        sns.lineplot(x=xvals, y=history.history[metrics[i]])\n",
    "        sns.lineplot(x=xvals, y=history.history[\"val_\" + metrics[i]])\n",
    "        plt.xticks(xvals)\n",
    "        plt.ylabel(metrics[i])\n",
    "    \n",
    "    fig.suptitle(figTitle)\n",
    "    plt.show()"
   ]
  },
  {
   "cell_type": "code",
   "execution_count": 12,
   "metadata": {},
   "outputs": [],
   "source": [
    "def getOutputPaths(modelName, modelsDir, logsDir):\n",
    "    timeStampStr = datetime.datetime.now().strftime(\"%Y%m%d-%H%M%S\")\n",
    "    logPath = str(Path(logsDir).joinpath(modelName).joinpath(timeStampStr))\n",
    "    modelPath = str(Path(modelsDir).joinpath(modelName).joinpath(timeStampStr)) + \".h5\"\n",
    "    return (modelPath, logPath)"
   ]
  },
  {
   "cell_type": "code",
   "execution_count": 17,
   "metadata": {},
   "outputs": [],
   "source": [
    "# Function to compile, fit and predict keras model\n",
    "def fitAndPredictModel(model, X_train, y_train, X_test, y_test, loss, optimizer, metrics, validationSplit, \\\n",
    "    epochs, batchSize, saveModel=True, modelsDir=\"data/models\", logsDir=\"data/logs\"):\n",
    "    # Get dir paths for saving model and log files\n",
    "    modelPath, logPath = getOutputPaths(modelName=model.name, modelsDir=modelsDir, logsDir=logsDir)\n",
    "    # Compile the model\n",
    "    model.compile(loss=loss, optimizer=optimizer, metrics=metrics)\n",
    "    # Split training data into training/ validation sets\n",
    "    X_train, X_valid, y_train, y_valid = train_test_split(X_train, y_train.reshape(-1,1), test_size=validationSplit, shuffle= True)\n",
    "    # TensorBoard callback\n",
    "    tbCallback = TensorBoard(log_dir=logPath, update_freq=\"batch\")\n",
    "    # Model checkpoint callback\n",
    "    monitorName = \"val_\" + (metrics[0] if isinstance(metrics[0], str) else metrics[0].name)\n",
    "    cpCallback = ModelCheckpoint(modelPath, monitor=monitorName, verbose=1, save_best_only=True, mode=\"max\")\n",
    "    # Fit the model on the training data\n",
    "    history = model.fit(X_train, y_train, epochs=epochs, batch_size=batchSize, validation_data=(X_valid, y_valid), callbacks=[tbCallback, cpCallback])\n",
    "    # Plot training performance\n",
    "    if(epochs >= 3):\n",
    "        plotTrainingPerformance(history=history, figTitle=\"Accuracy/ Loss over Epochs\")\n",
    "    # Predict review sentiments on the test data and check model accuracy\n",
    "    if saveModel == True:\n",
    "        model.save(modelPath, save_format=\"h5\")\n",
    "    \n",
    "    print(\"Test accuracy\")\n",
    "    _, accuracy = model.evaluate(X_test, y_test.reshape((-1,1)))\n",
    "    print(\"%s Accuracy: %.2f%%\" % (model.name, accuracy*100))"
   ]
  },
  {
   "cell_type": "code",
   "execution_count": 18,
   "metadata": {},
   "outputs": [
    {
     "output_type": "stream",
     "name": "stdout",
     "text": [
      "Model: \"sampleMLP\"\n_________________________________________________________________\nLayer (type)                 Output Shape              Param #   \n=================================================================\ndense_6 (Dense)              (None, 256)               19359488  \n_________________________________________________________________\nactivation (Activation)      (None, 256)               0         \n_________________________________________________________________\ndropout (Dropout)            (None, 256)               0         \n_________________________________________________________________\ndense_7 (Dense)              (None, 256)               65792     \n_________________________________________________________________\nactivation_1 (Activation)    (None, 256)               0         \n_________________________________________________________________\ndropout_1 (Dropout)          (None, 256)               0         \n_________________________________________________________________\ndense_8 (Dense)              (None, 1)                 257       \n_________________________________________________________________\nactivation_2 (Activation)    (None, 1)                 0         \n=================================================================\nTotal params: 19,425,537\nTrainable params: 19,425,537\nNon-trainable params: 0\n_________________________________________________________________\nNone\n"
     ]
    }
   ],
   "source": [
    "if RUN_SAMPLE_CODE:\n",
    "    # Model definition\n",
    "    tfModel = Sequential(name=\"sampleMLP\")\n",
    "    l2Reg = 1e-3\n",
    "    dropout = 0.2\n",
    "    tfModel.add(Dense(256, input_shape=(X_train_tf.shape[1],), \\\n",
    "        kernel_regularizer=regularizers.l2(l2Reg), \\\n",
    "        bias_regularizer=regularizers.l2(l2Reg)))\n",
    "    tfModel.add(Activation('relu'))\n",
    "    tfModel.add(Dropout(dropout))\n",
    "    tfModel.add(Dense(256, input_shape=(X_train_tf.shape[1],), \\\n",
    "        kernel_regularizer=regularizers.l2(l2Reg), \\\n",
    "        bias_regularizer=regularizers.l2(l2Reg)))\n",
    "    tfModel.add(Activation('relu'))\n",
    "    tfModel.add(Dropout(dropout))\n",
    "    tfModel.add(Dense(1))\n",
    "    tfModel.add(Activation('sigmoid'))\n",
    "\n",
    "    print(tfModel.summary())\n",
    "    "
   ]
  },
  {
   "cell_type": "code",
   "execution_count": null,
   "metadata": {},
   "outputs": [],
   "source": [
    "if RUN_SAMPLE_CODE:\n",
    "    # Compile, fit and predict model\n",
    "    fitAndPredictModel(\n",
    "        model=tfModel, X_train=X_train_tf, y_train=y_train_tf, X_test=X_test_tf, y_test=y_test_tf, \n",
    "        loss=\"binary_crossentropy\", optimizer=\"adam\", metrics=[\"binary_accuracy\"], \n",
    "        validationSplit=0.2, epochs=3, batchSize=64)"
   ]
  },
  {
   "source": [
    "## Method 2: Training models using sequential word vectors data\n",
    "\n",
    "Now, we will use the sequential word vectors data to train a recurrent neural network with **1 LSTM layer**, **1 Dense layer** and a **sigmoid** output layer."
   ],
   "cell_type": "markdown",
   "metadata": {}
  },
  {
   "source": [
    "### Loading sample sequential train/ test data\n",
    "\n",
    "We will begin by loading the train/ test data."
   ],
   "cell_type": "markdown",
   "metadata": {}
  },
  {
   "cell_type": "code",
   "execution_count": 8,
   "metadata": {},
   "outputs": [],
   "source": [
    "if RUN_SAMPLE_CODE:\n",
    "    sourceDir = Path(\"data/processedSamples/seqData\")\n",
    "    X_train_seq = pd.DataFrame(np.load(str(sourceDir.joinpath(\"X_train.npy\")), allow_pickle=True).tolist())\n",
    "    X_test_seq = pd.DataFrame(np.load(str(sourceDir.joinpath(\"X_test.npy\")), allow_pickle=True).tolist())\n",
    "    y_train_seq = pd.read_csv(str(sourceDir.joinpath(\"y_train.csv\")))[\"review_sentiment\"].to_numpy()\n",
    "    y_test_seq = pd.read_csv(str(sourceDir.joinpath(\"y_test.csv\")))[\"review_sentiment\"].to_numpy()\n",
    "\n",
    "    vocabCount = max(X_train_seq.max(axis=1)) + 1"
   ]
  },
  {
   "source": [
    "### Predictions using a LSTM Recurrent Neural Network\n",
    "\n",
    "We will be using a **Recurrent neural network** with two LSTM layers, two fully-connected dense layers, and a **sigmoid** activation for the output layer. We can experiment with network architecture as well as the hyperparameters such as *L2 regularization, dropout rate, number of nodes in the hidden layers and the activation functions* to find the best possible combination that gives the best accuracy on the test data."
   ],
   "cell_type": "markdown",
   "metadata": {}
  },
  {
   "cell_type": "code",
   "execution_count": 19,
   "metadata": {},
   "outputs": [],
   "source": [
    "def getLSTMModel(modelName, inputDim, inputLength, l2Reg, outputDim=128, lstmCells=[128, 128], denseCells=[128, 64, 1]):\n",
    "    # Model definition\n",
    "    lstmModel = Sequential(name=modelName)\n",
    "    lstmModel.add(Embedding(input_dim=inputDim, output_dim=outputDim, input_length=inputLength, mask_zero=True))\n",
    "    lstmModel.add(LSTM(lstmCells[0], return_sequences=True))\n",
    "    lstmModel.add(LSTM(lstmCells[1], return_sequences=False))\n",
    "    lstmModel.add(Dense(denseCells[0], activation='relu', \\\n",
    "        kernel_regularizer=regularizers.l2(l2Reg), \\\n",
    "        bias_regularizer=regularizers.l2(l2Reg)))\n",
    "    lstmModel.add(Dense(denseCells[1], activation='relu', \\\n",
    "        kernel_regularizer=regularizers.l2(l2Reg), \\\n",
    "        bias_regularizer=regularizers.l2(l2Reg)))\n",
    "    lstmModel.add(Dense(denseCells[2], activation='sigmoid'))\n",
    "\n",
    "    return (lstmModel)"
   ]
  },
  {
   "cell_type": "code",
   "execution_count": 20,
   "metadata": {},
   "outputs": [
    {
     "output_type": "stream",
     "name": "stdout",
     "text": [
      "Model: \"sampleLSTM\"\n_________________________________________________________________\nLayer (type)                 Output Shape              Param #   \n=================================================================\nembedding_2 (Embedding)      (None, 123, 128)          4194304   \n_________________________________________________________________\nlstm_4 (LSTM)                (None, 123, 128)          131584    \n_________________________________________________________________\nlstm_5 (LSTM)                (None, 128)               131584    \n_________________________________________________________________\ndense_9 (Dense)              (None, 128)               16512     \n_________________________________________________________________\ndense_10 (Dense)             (None, 64)                8256      \n_________________________________________________________________\ndense_11 (Dense)             (None, 1)                 65        \n=================================================================\nTotal params: 4,482,305\nTrainable params: 4,482,305\nNon-trainable params: 0\n_________________________________________________________________\nNone\n"
     ]
    }
   ],
   "source": [
    "if RUN_SAMPLE_CODE:\n",
    "    # Set LSTM model hyperparameters\n",
    "    l2Reg = 1e-3\n",
    "    learningRate = 1e-3\n",
    "    epochs = 3\n",
    "    batchSize = 64\n",
    "    validationSplit = 0.2\n",
    "\n",
    "    lstmMetrics = [metrics.BinaryAccuracy()]\n",
    "    lstmOptimizer = optimizers.Adam(learning_rate=learningRate)\n",
    "    lstmLoss = losses.BinaryCrossentropy()\n",
    "\n",
    "    sampleLSTMModel = getLSTMModel(modelName=\"sampleLSTM\", inputDim=vocabCount, inputLength=X_train_seq.shape[1], l2Reg=l2Reg)\n",
    "    print(sampleLSTMModel.summary())"
   ]
  },
  {
   "cell_type": "code",
   "execution_count": 16,
   "metadata": {},
   "outputs": [
    {
     "output_type": "stream",
     "name": "stdout",
     "text": [
      "Epoch 1/3\n",
      "400/400 [==============================] - 194s 467ms/step - loss: 0.6082 - binary_accuracy: 0.7307 - val_loss: 0.3833 - val_binary_accuracy: 0.8442\n",
      "\n",
      "Epoch 00001: val_binary_accuracy improved from -inf to 0.84421, saving model to data\\models\\sampleLSTM\\20210423-130051.h5\n",
      "Epoch 2/3\n",
      "400/400 [==============================] - 150s 374ms/step - loss: 0.2551 - binary_accuracy: 0.9089 - val_loss: 0.3743 - val_binary_accuracy: 0.8464\n",
      "\n",
      "Epoch 00002: val_binary_accuracy improved from 0.84421 to 0.84641, saving model to data\\models\\sampleLSTM\\20210423-130051.h5\n",
      "Epoch 3/3\n",
      "400/400 [==============================] - 163s 408ms/step - loss: 0.1564 - binary_accuracy: 0.9467 - val_loss: 0.4565 - val_binary_accuracy: 0.8403\n",
      "\n",
      "Epoch 00003: val_binary_accuracy did not improve from 0.84641\n"
     ]
    },
    {
     "output_type": "display_data",
     "data": {
      "text/plain": "<Figure size 864x360 with 2 Axes>",
      "image/svg+xml": "<?xml version=\"1.0\" encoding=\"utf-8\" standalone=\"no\"?>\r\n<!DOCTYPE svg PUBLIC \"-//W3C//DTD SVG 1.1//EN\"\r\n  \"http://www.w3.org/Graphics/SVG/1.1/DTD/svg11.dtd\">\r\n<svg height=\"341.759844pt\" version=\"1.1\" viewBox=\"0 0 729.881406 341.759844\" width=\"729.881406pt\" xmlns=\"http://www.w3.org/2000/svg\" xmlns:xlink=\"http://www.w3.org/1999/xlink\">\r\n <metadata>\r\n  <rdf:RDF xmlns:cc=\"http://creativecommons.org/ns#\" xmlns:dc=\"http://purl.org/dc/elements/1.1/\" xmlns:rdf=\"http://www.w3.org/1999/02/22-rdf-syntax-ns#\">\r\n   <cc:Work>\r\n    <dc:type rdf:resource=\"http://purl.org/dc/dcmitype/StillImage\"/>\r\n    <dc:date>2021-04-23T13:09:19.798774</dc:date>\r\n    <dc:format>image/svg+xml</dc:format>\r\n    <dc:creator>\r\n     <cc:Agent>\r\n      <dc:title>Matplotlib v3.4.0, https://matplotlib.org/</dc:title>\r\n     </cc:Agent>\r\n    </dc:creator>\r\n   </cc:Work>\r\n  </rdf:RDF>\r\n </metadata>\r\n <defs>\r\n  <style type=\"text/css\">*{stroke-linecap:butt;stroke-linejoin:round;}</style>\r\n </defs>\r\n <g id=\"figure_1\">\r\n  <g id=\"patch_1\">\r\n   <path d=\"M 0 341.759844 \r\nL 729.881406 341.759844 \r\nL 729.881406 0 \r\nL 0 0 \r\nz\r\n\" style=\"fill:#ffffff;\"/>\r\n  </g>\r\n  <g id=\"axes_1\">\r\n   <g id=\"patch_2\">\r\n    <path d=\"M 53.081406 315 \r\nL 357.445043 315 \r\nL 357.445043 43.2 \r\nL 53.081406 43.2 \r\nz\r\n\" style=\"fill:#ffffff;\"/>\r\n   </g>\r\n   <g id=\"matplotlib.axis_1\">\r\n    <g id=\"xtick_1\">\r\n     <g id=\"text_1\">\r\n      <!-- 1 -->\r\n      <g style=\"fill:#262626;\" transform=\"translate(63.857601 332.373594)scale(0.11 -0.11)\">\r\n       <defs>\r\n        <path d=\"M 2384 0 \r\nL 1822 0 \r\nL 1822 3584 \r\nQ 1619 3391 1289 3197 \r\nQ 959 3003 697 2906 \r\nL 697 3450 \r\nQ 1169 3672 1522 3987 \r\nQ 1875 4303 2022 4600 \r\nL 2384 4600 \r\nL 2384 0 \r\nz\r\n\" id=\"ArialMT-31\" transform=\"scale(0.015625)\"/>\r\n       </defs>\r\n       <use xlink:href=\"#ArialMT-31\"/>\r\n      </g>\r\n     </g>\r\n    </g>\r\n    <g id=\"xtick_2\">\r\n     <g id=\"text_2\">\r\n      <!-- 2 -->\r\n      <g style=\"fill:#262626;\" transform=\"translate(202.204709 332.373594)scale(0.11 -0.11)\">\r\n       <defs>\r\n        <path d=\"M 3222 541 \r\nL 3222 0 \r\nL 194 0 \r\nQ 188 203 259 391 \r\nQ 375 700 629 1000 \r\nQ 884 1300 1366 1694 \r\nQ 2113 2306 2375 2664 \r\nQ 2638 3022 2638 3341 \r\nQ 2638 3675 2398 3904 \r\nQ 2159 4134 1775 4134 \r\nQ 1369 4134 1125 3890 \r\nQ 881 3647 878 3216 \r\nL 300 3275 \r\nQ 359 3922 746 4261 \r\nQ 1134 4600 1788 4600 \r\nQ 2447 4600 2831 4234 \r\nQ 3216 3869 3216 3328 \r\nQ 3216 3053 3103 2787 \r\nQ 2991 2522 2730 2228 \r\nQ 2469 1934 1863 1422 \r\nQ 1356 997 1212 845 \r\nQ 1069 694 975 541 \r\nL 3222 541 \r\nz\r\n\" id=\"ArialMT-32\" transform=\"scale(0.015625)\"/>\r\n       </defs>\r\n       <use xlink:href=\"#ArialMT-32\"/>\r\n      </g>\r\n     </g>\r\n    </g>\r\n    <g id=\"xtick_3\">\r\n     <g id=\"text_3\">\r\n      <!-- 3 -->\r\n      <g style=\"fill:#262626;\" transform=\"translate(340.551816 332.373594)scale(0.11 -0.11)\">\r\n       <defs>\r\n        <path d=\"M 269 1209 \r\nL 831 1284 \r\nQ 928 806 1161 595 \r\nQ 1394 384 1728 384 \r\nQ 2125 384 2398 659 \r\nQ 2672 934 2672 1341 \r\nQ 2672 1728 2419 1979 \r\nQ 2166 2231 1775 2231 \r\nQ 1616 2231 1378 2169 \r\nL 1441 2663 \r\nQ 1497 2656 1531 2656 \r\nQ 1891 2656 2178 2843 \r\nQ 2466 3031 2466 3422 \r\nQ 2466 3731 2256 3934 \r\nQ 2047 4138 1716 4138 \r\nQ 1388 4138 1169 3931 \r\nQ 950 3725 888 3313 \r\nL 325 3413 \r\nQ 428 3978 793 4289 \r\nQ 1159 4600 1703 4600 \r\nQ 2078 4600 2393 4439 \r\nQ 2709 4278 2876 4000 \r\nQ 3044 3722 3044 3409 \r\nQ 3044 3113 2884 2869 \r\nQ 2725 2625 2413 2481 \r\nQ 2819 2388 3044 2092 \r\nQ 3269 1797 3269 1353 \r\nQ 3269 753 2831 336 \r\nQ 2394 -81 1725 -81 \r\nQ 1122 -81 723 278 \r\nQ 325 638 269 1209 \r\nz\r\n\" id=\"ArialMT-33\" transform=\"scale(0.015625)\"/>\r\n       </defs>\r\n       <use xlink:href=\"#ArialMT-33\"/>\r\n      </g>\r\n     </g>\r\n    </g>\r\n   </g>\r\n   <g id=\"matplotlib.axis_2\">\r\n    <g id=\"ytick_1\">\r\n     <g id=\"text_4\">\r\n      <!-- 0.20 -->\r\n      <g style=\"fill:#262626;\" transform=\"translate(22.174375 280.50274)scale(0.11 -0.11)\">\r\n       <defs>\r\n        <path d=\"M 266 2259 \r\nQ 266 3072 433 3567 \r\nQ 600 4063 929 4331 \r\nQ 1259 4600 1759 4600 \r\nQ 2128 4600 2406 4451 \r\nQ 2684 4303 2865 4023 \r\nQ 3047 3744 3150 3342 \r\nQ 3253 2941 3253 2259 \r\nQ 3253 1453 3087 958 \r\nQ 2922 463 2592 192 \r\nQ 2263 -78 1759 -78 \r\nQ 1097 -78 719 397 \r\nQ 266 969 266 2259 \r\nz\r\nM 844 2259 \r\nQ 844 1131 1108 757 \r\nQ 1372 384 1759 384 \r\nQ 2147 384 2411 759 \r\nQ 2675 1134 2675 2259 \r\nQ 2675 3391 2411 3762 \r\nQ 2147 4134 1753 4134 \r\nQ 1366 4134 1134 3806 \r\nQ 844 3388 844 2259 \r\nz\r\n\" id=\"ArialMT-30\" transform=\"scale(0.015625)\"/>\r\n        <path d=\"M 581 0 \r\nL 581 641 \r\nL 1222 641 \r\nL 1222 0 \r\nL 581 0 \r\nz\r\n\" id=\"ArialMT-2e\" transform=\"scale(0.015625)\"/>\r\n       </defs>\r\n       <use xlink:href=\"#ArialMT-30\"/>\r\n       <use x=\"55.615234\" xlink:href=\"#ArialMT-2e\"/>\r\n       <use x=\"83.398438\" xlink:href=\"#ArialMT-32\"/>\r\n       <use x=\"139.013672\" xlink:href=\"#ArialMT-30\"/>\r\n      </g>\r\n     </g>\r\n    </g>\r\n    <g id=\"ytick_2\">\r\n     <g id=\"text_5\">\r\n      <!-- 0.25 -->\r\n      <g style=\"fill:#262626;\" transform=\"translate(22.174375 241.287451)scale(0.11 -0.11)\">\r\n       <defs>\r\n        <path d=\"M 266 1200 \r\nL 856 1250 \r\nQ 922 819 1161 601 \r\nQ 1400 384 1738 384 \r\nQ 2144 384 2425 690 \r\nQ 2706 997 2706 1503 \r\nQ 2706 1984 2436 2262 \r\nQ 2166 2541 1728 2541 \r\nQ 1456 2541 1237 2417 \r\nQ 1019 2294 894 2097 \r\nL 366 2166 \r\nL 809 4519 \r\nL 3088 4519 \r\nL 3088 3981 \r\nL 1259 3981 \r\nL 1013 2750 \r\nQ 1425 3038 1878 3038 \r\nQ 2478 3038 2890 2622 \r\nQ 3303 2206 3303 1553 \r\nQ 3303 931 2941 478 \r\nQ 2500 -78 1738 -78 \r\nQ 1113 -78 717 272 \r\nQ 322 622 266 1200 \r\nz\r\n\" id=\"ArialMT-35\" transform=\"scale(0.015625)\"/>\r\n       </defs>\r\n       <use xlink:href=\"#ArialMT-30\"/>\r\n       <use x=\"55.615234\" xlink:href=\"#ArialMT-2e\"/>\r\n       <use x=\"83.398438\" xlink:href=\"#ArialMT-32\"/>\r\n       <use x=\"139.013672\" xlink:href=\"#ArialMT-35\"/>\r\n      </g>\r\n     </g>\r\n    </g>\r\n    <g id=\"ytick_3\">\r\n     <g id=\"text_6\">\r\n      <!-- 0.30 -->\r\n      <g style=\"fill:#262626;\" transform=\"translate(22.174375 202.072163)scale(0.11 -0.11)\">\r\n       <use xlink:href=\"#ArialMT-30\"/>\r\n       <use x=\"55.615234\" xlink:href=\"#ArialMT-2e\"/>\r\n       <use x=\"83.398438\" xlink:href=\"#ArialMT-33\"/>\r\n       <use x=\"139.013672\" xlink:href=\"#ArialMT-30\"/>\r\n      </g>\r\n     </g>\r\n    </g>\r\n    <g id=\"ytick_4\">\r\n     <g id=\"text_7\">\r\n      <!-- 0.35 -->\r\n      <g style=\"fill:#262626;\" transform=\"translate(22.174375 162.856874)scale(0.11 -0.11)\">\r\n       <use xlink:href=\"#ArialMT-30\"/>\r\n       <use x=\"55.615234\" xlink:href=\"#ArialMT-2e\"/>\r\n       <use x=\"83.398438\" xlink:href=\"#ArialMT-33\"/>\r\n       <use x=\"139.013672\" xlink:href=\"#ArialMT-35\"/>\r\n      </g>\r\n     </g>\r\n    </g>\r\n    <g id=\"ytick_5\">\r\n     <g id=\"text_8\">\r\n      <!-- 0.40 -->\r\n      <g style=\"fill:#262626;\" transform=\"translate(22.174375 123.641586)scale(0.11 -0.11)\">\r\n       <defs>\r\n        <path d=\"M 2069 0 \r\nL 2069 1097 \r\nL 81 1097 \r\nL 81 1613 \r\nL 2172 4581 \r\nL 2631 4581 \r\nL 2631 1613 \r\nL 3250 1613 \r\nL 3250 1097 \r\nL 2631 1097 \r\nL 2631 0 \r\nL 2069 0 \r\nz\r\nM 2069 1613 \r\nL 2069 3678 \r\nL 634 1613 \r\nL 2069 1613 \r\nz\r\n\" id=\"ArialMT-34\" transform=\"scale(0.015625)\"/>\r\n       </defs>\r\n       <use xlink:href=\"#ArialMT-30\"/>\r\n       <use x=\"55.615234\" xlink:href=\"#ArialMT-2e\"/>\r\n       <use x=\"83.398438\" xlink:href=\"#ArialMT-34\"/>\r\n       <use x=\"139.013672\" xlink:href=\"#ArialMT-30\"/>\r\n      </g>\r\n     </g>\r\n    </g>\r\n    <g id=\"ytick_6\">\r\n     <g id=\"text_9\">\r\n      <!-- 0.45 -->\r\n      <g style=\"fill:#262626;\" transform=\"translate(22.174375 84.426297)scale(0.11 -0.11)\">\r\n       <use xlink:href=\"#ArialMT-30\"/>\r\n       <use x=\"55.615234\" xlink:href=\"#ArialMT-2e\"/>\r\n       <use x=\"83.398438\" xlink:href=\"#ArialMT-34\"/>\r\n       <use x=\"139.013672\" xlink:href=\"#ArialMT-35\"/>\r\n      </g>\r\n     </g>\r\n    </g>\r\n    <g id=\"text_10\">\r\n     <!-- loss -->\r\n     <g style=\"fill:#262626;\" transform=\"translate(15.789375 189.769687)rotate(-90)scale(0.12 -0.12)\">\r\n      <defs>\r\n       <path d=\"M 409 0 \r\nL 409 4581 \r\nL 972 4581 \r\nL 972 0 \r\nL 409 0 \r\nz\r\n\" id=\"ArialMT-6c\" transform=\"scale(0.015625)\"/>\r\n       <path d=\"M 213 1659 \r\nQ 213 2581 725 3025 \r\nQ 1153 3394 1769 3394 \r\nQ 2453 3394 2887 2945 \r\nQ 3322 2497 3322 1706 \r\nQ 3322 1066 3130 698 \r\nQ 2938 331 2570 128 \r\nQ 2203 -75 1769 -75 \r\nQ 1072 -75 642 372 \r\nQ 213 819 213 1659 \r\nz\r\nM 791 1659 \r\nQ 791 1022 1069 705 \r\nQ 1347 388 1769 388 \r\nQ 2188 388 2466 706 \r\nQ 2744 1025 2744 1678 \r\nQ 2744 2294 2464 2611 \r\nQ 2184 2928 1769 2928 \r\nQ 1347 2928 1069 2612 \r\nQ 791 2297 791 1659 \r\nz\r\n\" id=\"ArialMT-6f\" transform=\"scale(0.015625)\"/>\r\n       <path d=\"M 197 991 \r\nL 753 1078 \r\nQ 800 744 1014 566 \r\nQ 1228 388 1613 388 \r\nQ 2000 388 2187 545 \r\nQ 2375 703 2375 916 \r\nQ 2375 1106 2209 1216 \r\nQ 2094 1291 1634 1406 \r\nQ 1016 1563 777 1677 \r\nQ 538 1791 414 1992 \r\nQ 291 2194 291 2438 \r\nQ 291 2659 392 2848 \r\nQ 494 3038 669 3163 \r\nQ 800 3259 1026 3326 \r\nQ 1253 3394 1513 3394 \r\nQ 1903 3394 2198 3281 \r\nQ 2494 3169 2634 2976 \r\nQ 2775 2784 2828 2463 \r\nL 2278 2388 \r\nQ 2241 2644 2061 2787 \r\nQ 1881 2931 1553 2931 \r\nQ 1166 2931 1000 2803 \r\nQ 834 2675 834 2503 \r\nQ 834 2394 903 2306 \r\nQ 972 2216 1119 2156 \r\nQ 1203 2125 1616 2013 \r\nQ 2213 1853 2448 1751 \r\nQ 2684 1650 2818 1456 \r\nQ 2953 1263 2953 975 \r\nQ 2953 694 2789 445 \r\nQ 2625 197 2315 61 \r\nQ 2006 -75 1616 -75 \r\nQ 969 -75 630 194 \r\nQ 291 463 197 991 \r\nz\r\n\" id=\"ArialMT-73\" transform=\"scale(0.015625)\"/>\r\n      </defs>\r\n      <use xlink:href=\"#ArialMT-6c\"/>\r\n      <use x=\"22.216797\" xlink:href=\"#ArialMT-6f\"/>\r\n      <use x=\"77.832031\" xlink:href=\"#ArialMT-73\"/>\r\n      <use x=\"127.832031\" xlink:href=\"#ArialMT-73\"/>\r\n     </g>\r\n    </g>\r\n   </g>\r\n   <g id=\"line2d_1\">\r\n    <path clip-path=\"url(#p65ee5c8360)\" d=\"M 66.916117 55.554545 \r\nL 205.263224 232.729658 \r\nL 343.610332 302.645455 \r\n\" style=\"fill:none;stroke:#4c72b0;stroke-linecap:round;stroke-width:1.5;\"/>\r\n   </g>\r\n   <g id=\"line2d_2\">\r\n    <path clip-path=\"url(#p65ee5c8360)\" d=\"M 66.916117 132.770434 \r\nL 205.263224 139.825215 \r\nL 343.610332 75.358327 \r\n\" style=\"fill:none;stroke:#dd8452;stroke-linecap:round;stroke-width:1.5;\"/>\r\n   </g>\r\n   <g id=\"patch_3\">\r\n    <path d=\"M 53.081406 315 \r\nL 53.081406 43.2 \r\n\" style=\"fill:none;stroke:#262626;stroke-linecap:square;stroke-linejoin:miter;stroke-width:1.25;\"/>\r\n   </g>\r\n   <g id=\"patch_4\">\r\n    <path d=\"M 357.445043 315 \r\nL 357.445043 43.2 \r\n\" style=\"fill:none;stroke:#262626;stroke-linecap:square;stroke-linejoin:miter;stroke-width:1.25;\"/>\r\n   </g>\r\n   <g id=\"patch_5\">\r\n    <path d=\"M 53.081406 315 \r\nL 357.445043 315 \r\n\" style=\"fill:none;stroke:#262626;stroke-linecap:square;stroke-linejoin:miter;stroke-width:1.25;\"/>\r\n   </g>\r\n   <g id=\"patch_6\">\r\n    <path d=\"M 53.081406 43.2 \r\nL 357.445043 43.2 \r\n\" style=\"fill:none;stroke:#262626;stroke-linecap:square;stroke-linejoin:miter;stroke-width:1.25;\"/>\r\n   </g>\r\n  </g>\r\n  <g id=\"axes_2\">\r\n   <g id=\"patch_7\">\r\n    <path d=\"M 418.31777 315 \r\nL 722.681406 315 \r\nL 722.681406 43.2 \r\nL 418.31777 43.2 \r\nz\r\n\" style=\"fill:#ffffff;\"/>\r\n   </g>\r\n   <g id=\"matplotlib.axis_3\">\r\n    <g id=\"xtick_4\">\r\n     <g id=\"text_11\">\r\n      <!-- 1 -->\r\n      <g style=\"fill:#262626;\" transform=\"translate(429.093965 332.373594)scale(0.11 -0.11)\">\r\n       <use xlink:href=\"#ArialMT-31\"/>\r\n      </g>\r\n     </g>\r\n    </g>\r\n    <g id=\"xtick_5\">\r\n     <g id=\"text_12\">\r\n      <!-- 2 -->\r\n      <g style=\"fill:#262626;\" transform=\"translate(567.441072 332.373594)scale(0.11 -0.11)\">\r\n       <use xlink:href=\"#ArialMT-32\"/>\r\n      </g>\r\n     </g>\r\n    </g>\r\n    <g id=\"xtick_6\">\r\n     <g id=\"text_13\">\r\n      <!-- 3 -->\r\n      <g style=\"fill:#262626;\" transform=\"translate(705.78818 332.373594)scale(0.11 -0.11)\">\r\n       <use xlink:href=\"#ArialMT-33\"/>\r\n      </g>\r\n     </g>\r\n    </g>\r\n   </g>\r\n   <g id=\"matplotlib.axis_4\">\r\n    <g id=\"ytick_7\">\r\n     <g id=\"text_14\">\r\n      <!-- 0.80 -->\r\n      <g style=\"fill:#262626;\" transform=\"translate(387.410739 313.818612)scale(0.11 -0.11)\">\r\n       <defs>\r\n        <path d=\"M 1131 2484 \r\nQ 781 2613 612 2850 \r\nQ 444 3088 444 3419 \r\nQ 444 3919 803 4259 \r\nQ 1163 4600 1759 4600 \r\nQ 2359 4600 2725 4251 \r\nQ 3091 3903 3091 3403 \r\nQ 3091 3084 2923 2848 \r\nQ 2756 2613 2416 2484 \r\nQ 2838 2347 3058 2040 \r\nQ 3278 1734 3278 1309 \r\nQ 3278 722 2862 322 \r\nQ 2447 -78 1769 -78 \r\nQ 1091 -78 675 323 \r\nQ 259 725 259 1325 \r\nQ 259 1772 486 2073 \r\nQ 713 2375 1131 2484 \r\nz\r\nM 1019 3438 \r\nQ 1019 3113 1228 2906 \r\nQ 1438 2700 1772 2700 \r\nQ 2097 2700 2305 2904 \r\nQ 2513 3109 2513 3406 \r\nQ 2513 3716 2298 3927 \r\nQ 2084 4138 1766 4138 \r\nQ 1444 4138 1231 3931 \r\nQ 1019 3725 1019 3438 \r\nz\r\nM 838 1322 \r\nQ 838 1081 952 856 \r\nQ 1066 631 1291 507 \r\nQ 1516 384 1775 384 \r\nQ 2178 384 2440 643 \r\nQ 2703 903 2703 1303 \r\nQ 2703 1709 2433 1975 \r\nQ 2163 2241 1756 2241 \r\nQ 1359 2241 1098 1978 \r\nQ 838 1716 838 1322 \r\nz\r\n\" id=\"ArialMT-38\" transform=\"scale(0.015625)\"/>\r\n       </defs>\r\n       <use xlink:href=\"#ArialMT-30\"/>\r\n       <use x=\"55.615234\" xlink:href=\"#ArialMT-2e\"/>\r\n       <use x=\"83.398438\" xlink:href=\"#ArialMT-38\"/>\r\n       <use x=\"139.013672\" xlink:href=\"#ArialMT-30\"/>\r\n      </g>\r\n     </g>\r\n    </g>\r\n    <g id=\"ytick_8\">\r\n     <g id=\"text_15\">\r\n      <!-- 0.82 -->\r\n      <g style=\"fill:#262626;\" transform=\"translate(387.410739 277.924745)scale(0.11 -0.11)\">\r\n       <use xlink:href=\"#ArialMT-30\"/>\r\n       <use x=\"55.615234\" xlink:href=\"#ArialMT-2e\"/>\r\n       <use x=\"83.398438\" xlink:href=\"#ArialMT-38\"/>\r\n       <use x=\"139.013672\" xlink:href=\"#ArialMT-32\"/>\r\n      </g>\r\n     </g>\r\n    </g>\r\n    <g id=\"ytick_9\">\r\n     <g id=\"text_16\">\r\n      <!-- 0.84 -->\r\n      <g style=\"fill:#262626;\" transform=\"translate(387.410739 242.030878)scale(0.11 -0.11)\">\r\n       <use xlink:href=\"#ArialMT-30\"/>\r\n       <use x=\"55.615234\" xlink:href=\"#ArialMT-2e\"/>\r\n       <use x=\"83.398438\" xlink:href=\"#ArialMT-38\"/>\r\n       <use x=\"139.013672\" xlink:href=\"#ArialMT-34\"/>\r\n      </g>\r\n     </g>\r\n    </g>\r\n    <g id=\"ytick_10\">\r\n     <g id=\"text_17\">\r\n      <!-- 0.86 -->\r\n      <g style=\"fill:#262626;\" transform=\"translate(387.410739 206.137011)scale(0.11 -0.11)\">\r\n       <defs>\r\n        <path d=\"M 3184 3459 \r\nL 2625 3416 \r\nQ 2550 3747 2413 3897 \r\nQ 2184 4138 1850 4138 \r\nQ 1581 4138 1378 3988 \r\nQ 1113 3794 959 3422 \r\nQ 806 3050 800 2363 \r\nQ 1003 2672 1297 2822 \r\nQ 1591 2972 1913 2972 \r\nQ 2475 2972 2870 2558 \r\nQ 3266 2144 3266 1488 \r\nQ 3266 1056 3080 686 \r\nQ 2894 316 2569 119 \r\nQ 2244 -78 1831 -78 \r\nQ 1128 -78 684 439 \r\nQ 241 956 241 2144 \r\nQ 241 3472 731 4075 \r\nQ 1159 4600 1884 4600 \r\nQ 2425 4600 2770 4297 \r\nQ 3116 3994 3184 3459 \r\nz\r\nM 888 1484 \r\nQ 888 1194 1011 928 \r\nQ 1134 663 1356 523 \r\nQ 1578 384 1822 384 \r\nQ 2178 384 2434 671 \r\nQ 2691 959 2691 1453 \r\nQ 2691 1928 2437 2201 \r\nQ 2184 2475 1800 2475 \r\nQ 1419 2475 1153 2201 \r\nQ 888 1928 888 1484 \r\nz\r\n\" id=\"ArialMT-36\" transform=\"scale(0.015625)\"/>\r\n       </defs>\r\n       <use xlink:href=\"#ArialMT-30\"/>\r\n       <use x=\"55.615234\" xlink:href=\"#ArialMT-2e\"/>\r\n       <use x=\"83.398438\" xlink:href=\"#ArialMT-38\"/>\r\n       <use x=\"139.013672\" xlink:href=\"#ArialMT-36\"/>\r\n      </g>\r\n     </g>\r\n    </g>\r\n    <g id=\"ytick_11\">\r\n     <g id=\"text_18\">\r\n      <!-- 0.88 -->\r\n      <g style=\"fill:#262626;\" transform=\"translate(387.410739 170.243144)scale(0.11 -0.11)\">\r\n       <use xlink:href=\"#ArialMT-30\"/>\r\n       <use x=\"55.615234\" xlink:href=\"#ArialMT-2e\"/>\r\n       <use x=\"83.398438\" xlink:href=\"#ArialMT-38\"/>\r\n       <use x=\"139.013672\" xlink:href=\"#ArialMT-38\"/>\r\n      </g>\r\n     </g>\r\n    </g>\r\n    <g id=\"ytick_12\">\r\n     <g id=\"text_19\">\r\n      <!-- 0.90 -->\r\n      <g style=\"fill:#262626;\" transform=\"translate(387.410739 134.349277)scale(0.11 -0.11)\">\r\n       <defs>\r\n        <path d=\"M 350 1059 \r\nL 891 1109 \r\nQ 959 728 1153 556 \r\nQ 1347 384 1650 384 \r\nQ 1909 384 2104 503 \r\nQ 2300 622 2425 820 \r\nQ 2550 1019 2634 1356 \r\nQ 2719 1694 2719 2044 \r\nQ 2719 2081 2716 2156 \r\nQ 2547 1888 2255 1720 \r\nQ 1963 1553 1622 1553 \r\nQ 1053 1553 659 1965 \r\nQ 266 2378 266 3053 \r\nQ 266 3750 677 4175 \r\nQ 1088 4600 1706 4600 \r\nQ 2153 4600 2523 4359 \r\nQ 2894 4119 3086 3673 \r\nQ 3278 3228 3278 2384 \r\nQ 3278 1506 3087 986 \r\nQ 2897 466 2520 194 \r\nQ 2144 -78 1638 -78 \r\nQ 1100 -78 759 220 \r\nQ 419 519 350 1059 \r\nz\r\nM 2653 3081 \r\nQ 2653 3566 2395 3850 \r\nQ 2138 4134 1775 4134 \r\nQ 1400 4134 1122 3828 \r\nQ 844 3522 844 3034 \r\nQ 844 2597 1108 2323 \r\nQ 1372 2050 1759 2050 \r\nQ 2150 2050 2401 2323 \r\nQ 2653 2597 2653 3081 \r\nz\r\n\" id=\"ArialMT-39\" transform=\"scale(0.015625)\"/>\r\n       </defs>\r\n       <use xlink:href=\"#ArialMT-30\"/>\r\n       <use x=\"55.615234\" xlink:href=\"#ArialMT-2e\"/>\r\n       <use x=\"83.398438\" xlink:href=\"#ArialMT-39\"/>\r\n       <use x=\"139.013672\" xlink:href=\"#ArialMT-30\"/>\r\n      </g>\r\n     </g>\r\n    </g>\r\n    <g id=\"ytick_13\">\r\n     <g id=\"text_20\">\r\n      <!-- 0.92 -->\r\n      <g style=\"fill:#262626;\" transform=\"translate(387.410739 98.45541)scale(0.11 -0.11)\">\r\n       <use xlink:href=\"#ArialMT-30\"/>\r\n       <use x=\"55.615234\" xlink:href=\"#ArialMT-2e\"/>\r\n       <use x=\"83.398438\" xlink:href=\"#ArialMT-39\"/>\r\n       <use x=\"139.013672\" xlink:href=\"#ArialMT-32\"/>\r\n      </g>\r\n     </g>\r\n    </g>\r\n    <g id=\"ytick_14\">\r\n     <g id=\"text_21\">\r\n      <!-- 0.94 -->\r\n      <g style=\"fill:#262626;\" transform=\"translate(387.410739 62.561543)scale(0.11 -0.11)\">\r\n       <use xlink:href=\"#ArialMT-30\"/>\r\n       <use x=\"55.615234\" xlink:href=\"#ArialMT-2e\"/>\r\n       <use x=\"83.398438\" xlink:href=\"#ArialMT-39\"/>\r\n       <use x=\"139.013672\" xlink:href=\"#ArialMT-34\"/>\r\n      </g>\r\n     </g>\r\n    </g>\r\n    <g id=\"text_22\">\r\n     <!-- binary_accuracy -->\r\n     <g style=\"fill:#262626;\" transform=\"translate(380.885114 222.784687)rotate(-90)scale(0.12 -0.12)\">\r\n      <defs>\r\n       <path d=\"M 941 0 \r\nL 419 0 \r\nL 419 4581 \r\nL 981 4581 \r\nL 981 2947 \r\nQ 1338 3394 1891 3394 \r\nQ 2197 3394 2470 3270 \r\nQ 2744 3147 2920 2923 \r\nQ 3097 2700 3197 2384 \r\nQ 3297 2069 3297 1709 \r\nQ 3297 856 2875 390 \r\nQ 2453 -75 1863 -75 \r\nQ 1275 -75 941 416 \r\nL 941 0 \r\nz\r\nM 934 1684 \r\nQ 934 1088 1097 822 \r\nQ 1363 388 1816 388 \r\nQ 2184 388 2453 708 \r\nQ 2722 1028 2722 1663 \r\nQ 2722 2313 2464 2622 \r\nQ 2206 2931 1841 2931 \r\nQ 1472 2931 1203 2611 \r\nQ 934 2291 934 1684 \r\nz\r\n\" id=\"ArialMT-62\" transform=\"scale(0.015625)\"/>\r\n       <path d=\"M 425 3934 \r\nL 425 4581 \r\nL 988 4581 \r\nL 988 3934 \r\nL 425 3934 \r\nz\r\nM 425 0 \r\nL 425 3319 \r\nL 988 3319 \r\nL 988 0 \r\nL 425 0 \r\nz\r\n\" id=\"ArialMT-69\" transform=\"scale(0.015625)\"/>\r\n       <path d=\"M 422 0 \r\nL 422 3319 \r\nL 928 3319 \r\nL 928 2847 \r\nQ 1294 3394 1984 3394 \r\nQ 2284 3394 2536 3286 \r\nQ 2788 3178 2913 3003 \r\nQ 3038 2828 3088 2588 \r\nQ 3119 2431 3119 2041 \r\nL 3119 0 \r\nL 2556 0 \r\nL 2556 2019 \r\nQ 2556 2363 2490 2533 \r\nQ 2425 2703 2258 2804 \r\nQ 2091 2906 1866 2906 \r\nQ 1506 2906 1245 2678 \r\nQ 984 2450 984 1813 \r\nL 984 0 \r\nL 422 0 \r\nz\r\n\" id=\"ArialMT-6e\" transform=\"scale(0.015625)\"/>\r\n       <path d=\"M 2588 409 \r\nQ 2275 144 1986 34 \r\nQ 1697 -75 1366 -75 \r\nQ 819 -75 525 192 \r\nQ 231 459 231 875 \r\nQ 231 1119 342 1320 \r\nQ 453 1522 633 1644 \r\nQ 813 1766 1038 1828 \r\nQ 1203 1872 1538 1913 \r\nQ 2219 1994 2541 2106 \r\nQ 2544 2222 2544 2253 \r\nQ 2544 2597 2384 2738 \r\nQ 2169 2928 1744 2928 \r\nQ 1347 2928 1158 2789 \r\nQ 969 2650 878 2297 \r\nL 328 2372 \r\nQ 403 2725 575 2942 \r\nQ 747 3159 1072 3276 \r\nQ 1397 3394 1825 3394 \r\nQ 2250 3394 2515 3294 \r\nQ 2781 3194 2906 3042 \r\nQ 3031 2891 3081 2659 \r\nQ 3109 2516 3109 2141 \r\nL 3109 1391 \r\nQ 3109 606 3145 398 \r\nQ 3181 191 3288 0 \r\nL 2700 0 \r\nQ 2613 175 2588 409 \r\nz\r\nM 2541 1666 \r\nQ 2234 1541 1622 1453 \r\nQ 1275 1403 1131 1340 \r\nQ 988 1278 909 1158 \r\nQ 831 1038 831 891 \r\nQ 831 666 1001 516 \r\nQ 1172 366 1500 366 \r\nQ 1825 366 2078 508 \r\nQ 2331 650 2450 897 \r\nQ 2541 1088 2541 1459 \r\nL 2541 1666 \r\nz\r\n\" id=\"ArialMT-61\" transform=\"scale(0.015625)\"/>\r\n       <path d=\"M 416 0 \r\nL 416 3319 \r\nL 922 3319 \r\nL 922 2816 \r\nQ 1116 3169 1280 3281 \r\nQ 1444 3394 1641 3394 \r\nQ 1925 3394 2219 3213 \r\nL 2025 2691 \r\nQ 1819 2813 1613 2813 \r\nQ 1428 2813 1281 2702 \r\nQ 1134 2591 1072 2394 \r\nQ 978 2094 978 1738 \r\nL 978 0 \r\nL 416 0 \r\nz\r\n\" id=\"ArialMT-72\" transform=\"scale(0.015625)\"/>\r\n       <path d=\"M 397 -1278 \r\nL 334 -750 \r\nQ 519 -800 656 -800 \r\nQ 844 -800 956 -737 \r\nQ 1069 -675 1141 -563 \r\nQ 1194 -478 1313 -144 \r\nQ 1328 -97 1363 -6 \r\nL 103 3319 \r\nL 709 3319 \r\nL 1400 1397 \r\nQ 1534 1031 1641 628 \r\nQ 1738 1016 1872 1384 \r\nL 2581 3319 \r\nL 3144 3319 \r\nL 1881 -56 \r\nQ 1678 -603 1566 -809 \r\nQ 1416 -1088 1222 -1217 \r\nQ 1028 -1347 759 -1347 \r\nQ 597 -1347 397 -1278 \r\nz\r\n\" id=\"ArialMT-79\" transform=\"scale(0.015625)\"/>\r\n       <path d=\"M -97 -1272 \r\nL -97 -866 \r\nL 3631 -866 \r\nL 3631 -1272 \r\nL -97 -1272 \r\nz\r\n\" id=\"ArialMT-5f\" transform=\"scale(0.015625)\"/>\r\n       <path d=\"M 2588 1216 \r\nL 3141 1144 \r\nQ 3050 572 2676 248 \r\nQ 2303 -75 1759 -75 \r\nQ 1078 -75 664 370 \r\nQ 250 816 250 1647 \r\nQ 250 2184 428 2587 \r\nQ 606 2991 970 3192 \r\nQ 1334 3394 1763 3394 \r\nQ 2303 3394 2647 3120 \r\nQ 2991 2847 3088 2344 \r\nL 2541 2259 \r\nQ 2463 2594 2264 2762 \r\nQ 2066 2931 1784 2931 \r\nQ 1359 2931 1093 2626 \r\nQ 828 2322 828 1663 \r\nQ 828 994 1084 691 \r\nQ 1341 388 1753 388 \r\nQ 2084 388 2306 591 \r\nQ 2528 794 2588 1216 \r\nz\r\n\" id=\"ArialMT-63\" transform=\"scale(0.015625)\"/>\r\n       <path d=\"M 2597 0 \r\nL 2597 488 \r\nQ 2209 -75 1544 -75 \r\nQ 1250 -75 995 37 \r\nQ 741 150 617 320 \r\nQ 494 491 444 738 \r\nQ 409 903 409 1263 \r\nL 409 3319 \r\nL 972 3319 \r\nL 972 1478 \r\nQ 972 1038 1006 884 \r\nQ 1059 663 1231 536 \r\nQ 1403 409 1656 409 \r\nQ 1909 409 2131 539 \r\nQ 2353 669 2445 892 \r\nQ 2538 1116 2538 1541 \r\nL 2538 3319 \r\nL 3100 3319 \r\nL 3100 0 \r\nL 2597 0 \r\nz\r\n\" id=\"ArialMT-75\" transform=\"scale(0.015625)\"/>\r\n      </defs>\r\n      <use xlink:href=\"#ArialMT-62\"/>\r\n      <use x=\"55.615234\" xlink:href=\"#ArialMT-69\"/>\r\n      <use x=\"77.832031\" xlink:href=\"#ArialMT-6e\"/>\r\n      <use x=\"133.447266\" xlink:href=\"#ArialMT-61\"/>\r\n      <use x=\"189.0625\" xlink:href=\"#ArialMT-72\"/>\r\n      <use x=\"222.363281\" xlink:href=\"#ArialMT-79\"/>\r\n      <use x=\"272.363281\" xlink:href=\"#ArialMT-5f\"/>\r\n      <use x=\"327.978516\" xlink:href=\"#ArialMT-61\"/>\r\n      <use x=\"383.59375\" xlink:href=\"#ArialMT-63\"/>\r\n      <use x=\"433.59375\" xlink:href=\"#ArialMT-63\"/>\r\n      <use x=\"483.59375\" xlink:href=\"#ArialMT-75\"/>\r\n      <use x=\"539.208984\" xlink:href=\"#ArialMT-72\"/>\r\n      <use x=\"572.509766\" xlink:href=\"#ArialMT-61\"/>\r\n      <use x=\"628.125\" xlink:href=\"#ArialMT-63\"/>\r\n      <use x=\"678.125\" xlink:href=\"#ArialMT-79\"/>\r\n     </g>\r\n    </g>\r\n   </g>\r\n   <g id=\"line2d_3\">\r\n    <path clip-path=\"url(#pb7efc8dcdc)\" d=\"M 432.152481 302.645455 \r\nL 570.499588 119.48768 \r\nL 708.846696 55.554545 \r\n\" style=\"fill:none;stroke:#4c72b0;stroke-linecap:round;stroke-width:1.5;\"/>\r\n   </g>\r\n   <g id=\"line2d_4\">\r\n    <path clip-path=\"url(#pb7efc8dcdc)\" d=\"M 432.152481 230.529813 \r\nL 570.499588 226.595915 \r\nL 708.846696 237.554561 \r\n\" style=\"fill:none;stroke:#dd8452;stroke-linecap:round;stroke-width:1.5;\"/>\r\n   </g>\r\n   <g id=\"patch_8\">\r\n    <path d=\"M 418.31777 315 \r\nL 418.31777 43.2 \r\n\" style=\"fill:none;stroke:#262626;stroke-linecap:square;stroke-linejoin:miter;stroke-width:1.25;\"/>\r\n   </g>\r\n   <g id=\"patch_9\">\r\n    <path d=\"M 722.681406 315 \r\nL 722.681406 43.2 \r\n\" style=\"fill:none;stroke:#262626;stroke-linecap:square;stroke-linejoin:miter;stroke-width:1.25;\"/>\r\n   </g>\r\n   <g id=\"patch_10\">\r\n    <path d=\"M 418.31777 315 \r\nL 722.681406 315 \r\n\" style=\"fill:none;stroke:#262626;stroke-linecap:square;stroke-linejoin:miter;stroke-width:1.25;\"/>\r\n   </g>\r\n   <g id=\"patch_11\">\r\n    <path d=\"M 418.31777 43.2 \r\nL 722.681406 43.2 \r\n\" style=\"fill:none;stroke:#262626;stroke-linecap:square;stroke-linejoin:miter;stroke-width:1.25;\"/>\r\n   </g>\r\n  </g>\r\n  <g id=\"text_23\">\r\n   <!-- Accuracy/ Loss over Epochs -->\r\n   <g style=\"fill:#262626;\" transform=\"translate(286.245531 17.68275)scale(0.144 -0.144)\">\r\n    <defs>\r\n     <path d=\"M -9 0 \r\nL 1750 4581 \r\nL 2403 4581 \r\nL 4278 0 \r\nL 3588 0 \r\nL 3053 1388 \r\nL 1138 1388 \r\nL 634 0 \r\nL -9 0 \r\nz\r\nM 1313 1881 \r\nL 2866 1881 \r\nL 2388 3150 \r\nQ 2169 3728 2063 4100 \r\nQ 1975 3659 1816 3225 \r\nL 1313 1881 \r\nz\r\n\" id=\"ArialMT-41\" transform=\"scale(0.015625)\"/>\r\n     <path d=\"M 0 -78 \r\nL 1328 4659 \r\nL 1778 4659 \r\nL 453 -78 \r\nL 0 -78 \r\nz\r\n\" id=\"ArialMT-2f\" transform=\"scale(0.015625)\"/>\r\n     <path id=\"ArialMT-20\" transform=\"scale(0.015625)\"/>\r\n     <path d=\"M 469 0 \r\nL 469 4581 \r\nL 1075 4581 \r\nL 1075 541 \r\nL 3331 541 \r\nL 3331 0 \r\nL 469 0 \r\nz\r\n\" id=\"ArialMT-4c\" transform=\"scale(0.015625)\"/>\r\n     <path d=\"M 1344 0 \r\nL 81 3319 \r\nL 675 3319 \r\nL 1388 1331 \r\nQ 1503 1009 1600 663 \r\nQ 1675 925 1809 1294 \r\nL 2547 3319 \r\nL 3125 3319 \r\nL 1869 0 \r\nL 1344 0 \r\nz\r\n\" id=\"ArialMT-76\" transform=\"scale(0.015625)\"/>\r\n     <path d=\"M 2694 1069 \r\nL 3275 997 \r\nQ 3138 488 2766 206 \r\nQ 2394 -75 1816 -75 \r\nQ 1088 -75 661 373 \r\nQ 234 822 234 1631 \r\nQ 234 2469 665 2931 \r\nQ 1097 3394 1784 3394 \r\nQ 2450 3394 2872 2941 \r\nQ 3294 2488 3294 1666 \r\nQ 3294 1616 3291 1516 \r\nL 816 1516 \r\nQ 847 969 1125 678 \r\nQ 1403 388 1819 388 \r\nQ 2128 388 2347 550 \r\nQ 2566 713 2694 1069 \r\nz\r\nM 847 1978 \r\nL 2700 1978 \r\nQ 2663 2397 2488 2606 \r\nQ 2219 2931 1791 2931 \r\nQ 1403 2931 1139 2672 \r\nQ 875 2413 847 1978 \r\nz\r\n\" id=\"ArialMT-65\" transform=\"scale(0.015625)\"/>\r\n     <path d=\"M 506 0 \r\nL 506 4581 \r\nL 3819 4581 \r\nL 3819 4041 \r\nL 1113 4041 \r\nL 1113 2638 \r\nL 3647 2638 \r\nL 3647 2100 \r\nL 1113 2100 \r\nL 1113 541 \r\nL 3925 541 \r\nL 3925 0 \r\nL 506 0 \r\nz\r\n\" id=\"ArialMT-45\" transform=\"scale(0.015625)\"/>\r\n     <path d=\"M 422 -1272 \r\nL 422 3319 \r\nL 934 3319 \r\nL 934 2888 \r\nQ 1116 3141 1344 3267 \r\nQ 1572 3394 1897 3394 \r\nQ 2322 3394 2647 3175 \r\nQ 2972 2956 3137 2557 \r\nQ 3303 2159 3303 1684 \r\nQ 3303 1175 3120 767 \r\nQ 2938 359 2589 142 \r\nQ 2241 -75 1856 -75 \r\nQ 1575 -75 1351 44 \r\nQ 1128 163 984 344 \r\nL 984 -1272 \r\nL 422 -1272 \r\nz\r\nM 931 1641 \r\nQ 931 1000 1190 694 \r\nQ 1450 388 1819 388 \r\nQ 2194 388 2461 705 \r\nQ 2728 1022 2728 1688 \r\nQ 2728 2322 2467 2637 \r\nQ 2206 2953 1844 2953 \r\nQ 1484 2953 1207 2617 \r\nQ 931 2281 931 1641 \r\nz\r\n\" id=\"ArialMT-70\" transform=\"scale(0.015625)\"/>\r\n     <path d=\"M 422 0 \r\nL 422 4581 \r\nL 984 4581 \r\nL 984 2938 \r\nQ 1378 3394 1978 3394 \r\nQ 2347 3394 2619 3248 \r\nQ 2891 3103 3008 2847 \r\nQ 3125 2591 3125 2103 \r\nL 3125 0 \r\nL 2563 0 \r\nL 2563 2103 \r\nQ 2563 2525 2380 2717 \r\nQ 2197 2909 1863 2909 \r\nQ 1613 2909 1392 2779 \r\nQ 1172 2650 1078 2428 \r\nQ 984 2206 984 1816 \r\nL 984 0 \r\nL 422 0 \r\nz\r\n\" id=\"ArialMT-68\" transform=\"scale(0.015625)\"/>\r\n    </defs>\r\n    <use xlink:href=\"#ArialMT-41\"/>\r\n    <use x=\"66.699219\" xlink:href=\"#ArialMT-63\"/>\r\n    <use x=\"116.699219\" xlink:href=\"#ArialMT-63\"/>\r\n    <use x=\"166.699219\" xlink:href=\"#ArialMT-75\"/>\r\n    <use x=\"222.314453\" xlink:href=\"#ArialMT-72\"/>\r\n    <use x=\"255.615234\" xlink:href=\"#ArialMT-61\"/>\r\n    <use x=\"311.230469\" xlink:href=\"#ArialMT-63\"/>\r\n    <use x=\"361.230469\" xlink:href=\"#ArialMT-79\"/>\r\n    <use x=\"411.230469\" xlink:href=\"#ArialMT-2f\"/>\r\n    <use x=\"439.013672\" xlink:href=\"#ArialMT-20\"/>\r\n    <use x=\"466.796875\" xlink:href=\"#ArialMT-4c\"/>\r\n    <use x=\"522.412109\" xlink:href=\"#ArialMT-6f\"/>\r\n    <use x=\"578.027344\" xlink:href=\"#ArialMT-73\"/>\r\n    <use x=\"628.027344\" xlink:href=\"#ArialMT-73\"/>\r\n    <use x=\"678.027344\" xlink:href=\"#ArialMT-20\"/>\r\n    <use x=\"705.810547\" xlink:href=\"#ArialMT-6f\"/>\r\n    <use x=\"761.425781\" xlink:href=\"#ArialMT-76\"/>\r\n    <use x=\"811.425781\" xlink:href=\"#ArialMT-65\"/>\r\n    <use x=\"867.041016\" xlink:href=\"#ArialMT-72\"/>\r\n    <use x=\"900.341797\" xlink:href=\"#ArialMT-20\"/>\r\n    <use x=\"928.125\" xlink:href=\"#ArialMT-45\"/>\r\n    <use x=\"994.824219\" xlink:href=\"#ArialMT-70\"/>\r\n    <use x=\"1050.439453\" xlink:href=\"#ArialMT-6f\"/>\r\n    <use x=\"1106.054688\" xlink:href=\"#ArialMT-63\"/>\r\n    <use x=\"1156.054688\" xlink:href=\"#ArialMT-68\"/>\r\n    <use x=\"1211.669922\" xlink:href=\"#ArialMT-73\"/>\r\n   </g>\r\n  </g>\r\n </g>\r\n <defs>\r\n  <clipPath id=\"p65ee5c8360\">\r\n   <rect height=\"271.8\" width=\"304.363636\" x=\"53.081406\" y=\"43.2\"/>\r\n  </clipPath>\r\n  <clipPath id=\"pb7efc8dcdc\">\r\n   <rect height=\"271.8\" width=\"304.363636\" x=\"418.31777\" y=\"43.2\"/>\r\n  </clipPath>\r\n </defs>\r\n</svg>\r\n",
      "image/png": "[encoded data removed]"
     },
     "metadata": {}
    },
    {
     "output_type": "stream",
     "name": "stdout",
     "text": [
      "Test accuracy\n",
      "250/250 [==============================] - 14s 55ms/step - loss: 0.4710 - binary_accuracy: 0.8362\n",
      "sampleLSTM Accuracy: 83.62%\n"
     ]
    }
   ],
   "source": [
    "if RUN_SAMPLE_CODE:\n",
    "    fitAndPredictModel(\n",
    "        model=sampleLSTMModel, X_train=X_train_seq, y_train=y_train_seq, X_test=X_test_seq, y_test=y_test_seq, \n",
    "        loss=lstmLoss, optimizer=lstmOptimizer, metrics=lstmMetrics, validationSplit=validationSplit, epochs=epochs, batchSize=batchSize)"
   ]
  },
  {
   "source": [
    "## Final Model - Keras LSTM Model with Padded Sequential Feature Vectors"
   ],
   "cell_type": "markdown",
   "metadata": {}
  },
  {
   "cell_type": "code",
   "execution_count": null,
   "metadata": {},
   "outputs": [],
   "source": [
    "if TRAIN_FINAL_MODEL:\n",
    "    sourceDir = Path(\"data/processedData\")\n",
    "    trainSeq = spark.read.parquet(str(sourceDir.joinpath(\"trainSeq.parquet\")))\n",
    "    testSeq = spark.read.parquet(str(sourceDir.joinpath(\"testSeq.parquet\")))\n",
    "    print(\"There are %d samples in the training data and %d samples in the test data.\"%(trainSeq.count(), testSeq.count()))\n",
    "    trainSeq.show(5)"
   ]
  },
  {
   "cell_type": "code",
   "execution_count": null,
   "metadata": {},
   "outputs": [],
   "source": [
    "def getModellingData(sparkDF):\n",
    "    df = sparkDF.toPandas()\n",
    "    X = pd.DataFrame(df[\"features\"].to_list())\n",
    "    y = df[\"review_sentiment\"].to_numpy()\n",
    "    return (X, y)"
   ]
  },
  {
   "cell_type": "code",
   "execution_count": null,
   "metadata": {},
   "outputs": [],
   "source": [
    "if TRAIN_FINAL_MODEL:\n",
    "    startTime = time.time()\n",
    "    X_train, y_train = getModellingData(trainSeq)\n",
    "    X_test, y_test = getModellingData(testSeq)\n",
    "\n",
    "    # Load tokenizer model to get vocabulary count\n",
    "    with open(str(sourceDir.joinpath(\"vectorTokenizer.pickle\")), \"rb\") as handle:\n",
    "        tokenizer = pickle.load(handle)\n",
    "    \n",
    "    tokConfig = tokenizer.get_config()\n",
    "    vocabCount = tokConfig[\"num_words\"]\n",
    "    endTime = time.time()\n",
    "    printElapsedTime(startTime=startTime, endTime=endTime)"
   ]
  },
  {
   "cell_type": "code",
   "execution_count": null,
   "metadata": {},
   "outputs": [],
   "source": [
    "if TRAIN_FINAL_MODEL:\n",
    "    # Set LSTM model hyperparameters\n",
    "    l2Reg = 1e-6\n",
    "    learningRate = 3e-3\n",
    "    epochs = 2\n",
    "    batchSize = 256\n",
    "    validationSplit = 0.1\n",
    "        \n",
    "    lstmMetrics = [metrics.BinaryAccuracy()]\n",
    "    lstmOptimizer = optimizers.Adam(learning_rate=learningRate)\n",
    "    lstmLoss = losses.BinaryCrossentropy()\n",
    "\n",
    "    finalLSTMModel = getLSTMModel(\n",
    "        modelName=\"finalLSTM\", inputDim=vocabCount, inputLength=X_train.shape[1], \n",
    "        l2Reg=l2Reg, outputDim=128, lstmCells=[256, 128], denseCells=[256, 128, 1])\n",
    "    print(finalLSTMModel.summary())"
   ]
  },
  {
   "cell_type": "code",
   "execution_count": null,
   "metadata": {},
   "outputs": [],
   "source": [
    "if TRAIN_FINAL_MODEL:\n",
    "    fitAndPredictModel(\n",
    "        model=finalLSTMModel, X_train=X_train, y_train=y_train, X_test=X_test, y_test=y_test, \n",
    "        loss=lstmLoss, optimizer=lstmOptimizer, metrics=lstmMetrics, validationSplit=validationSplit, \n",
    "        epochs=epochs, batch_size=batchSize)"
   ]
  },
  {
   "cell_type": "code",
   "execution_count": null,
   "metadata": {},
   "outputs": [],
   "source": []
  }
 ]
}