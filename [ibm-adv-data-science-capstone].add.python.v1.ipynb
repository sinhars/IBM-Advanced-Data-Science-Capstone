{
 "metadata": {
  "language_info": {
   "codemirror_mode": {
    "name": "ipython",
    "version": 3
   },
   "file_extension": ".py",
   "mimetype": "text/x-python",
   "name": "python",
   "nbconvert_exporter": "python",
   "pygments_lexer": "ipython3",
   "version": 3
  },
  "orig_nbformat": 2
 },
 "nbformat": 4,
 "nbformat_minor": 2,
 "cells": [
  {
   "source": [
    "# IBM Advanced Data Science Capstone Project\n",
    "## Sentiment Analysis of Amazon Customer Reviews\n",
    "### Harsh V Singh, Apr 2021"
   ],
   "cell_type": "markdown",
   "metadata": {}
  },
  {
   "source": [
    "## Architectural Decisions Document\n",
    "\n",
    "This document provides a comprehensive architectural overview of the system, and intends to capture the significant architectural decisions which have been made while designing and implementing this project."
   ],
   "cell_type": "markdown",
   "metadata": {}
  },
  {
   "source": [
    "### 1. Data Source\n",
    "\n",
    "The data that we are going to use in this project is sourced from a Kaggle user, Adam Bittlingmayer, who uploaded the data to the following Kaggle page - \n",
    "\n",
    "[Amazon Reviews for Sentiment Analysis](https://www.kaggle.com/bittlingmayer/amazonreviews)\n",
    "\n",
    "The dataset uploaded by Adam is modified for being used in a third-party tool called *fastText*. Since we would like to conduct our own analysis from scratch on the original data, we will use the link for the raw data provided in the description section of the page. This link points to a *Google Drive* folder which has the original training and test csv files for this dataset.\n",
    "\n",
    "[Xiang Zhang's Google Drive dir](https://drive.google.com/drive/folders/0Bz8a_Dbh9Qhbfll6bVpmNUtUcFdjYmF2SEpmZUZUcVNiMUw1TWN6RDV3a0JHT3kxLVhVR2M)\n",
    "\n",
    "The files are stored in **tar.gz** format on the drive with the following filename - **amazon_review_full_csv.tar.gz**.\n",
    "\n",
    "#### a. Technology Choice\n",
    "\n",
    "*No technology is required at this stage.*\n",
    "\n",
    "#### b. Justification\n",
    "\n",
    "We have manually identified the data source after reviewing various open-source datasets that were available. We reviewed the various datasets on platforms such as Kaggle and Qandl, and finally selected the Amazon reviews dataset as it pertains to a real-world, complex problem that can be addressed using data science and advanced machine learning. **Since the problem statement has been identified after picking the data source, we did not use any technology at this stage.**"
   ],
   "cell_type": "markdown",
   "metadata": {}
  },
  {
   "source": [
    "### 2. Enterprise Data\n",
    "\n",
    "Once we have identified the data source, we need to determine how to integrate this data into our project. Since the selected data source does not provide a recurring/ live stream of data, we only need to take a one-time dump from the external link and save the data to our local machine. \n",
    "\n",
    "#### a. Technology Choice\n",
    "\n",
    "Since we are dealing with a large dataset, we will use **Apache Spark** and **IBM Cloud Storage** to store our data in the form of parquet files.\n",
    "\n",
    "#### b. Justification\n",
    "\n",
    "We have selected **Apache Spark** in this case as this provides a lot of inbuilt features to parallelize the data exploration and feature extraction steps. The size of the dataset is quite large and we will be required to implement parallel processing in order to make the data exploration and feature extraction processes faster."
   ],
   "cell_type": "markdown",
   "metadata": {}
  },
  {
   "source": [
    "### 3. Streaming Analytics\n",
    "\n",
    "#### a. Technology Choice\n",
    "\n",
    "*No technology is required at this stage.*\n",
    "\n",
    "#### b. Justification\n",
    "\n",
    "This step is not applicable as our data source is static."
   ],
   "cell_type": "markdown",
   "metadata": {}
  },
  {
   "source": [
    "### 4. Data Integration\n",
    "\n",
    "Data integration involves cleaning the raw data that we have collected and preparing it for the specific use case of our project.\n",
    "\n",
    "#### a. Technology Choice\n",
    "\n",
    "We have chosen Jupyter Notebooks, Pandas and Spark as the technologies for this capstone project.\n",
    "\n",
    "#### b. Justification\n",
    "\n",
    "Jupyter Notebooks allow us to quickly develop python projects with seamless integration of code and supporting documentation and analysis. This will be suitable for presenting the steps undertaken to prepare the data as well as to present it to various stakeholders. Pandas and Spark will be used as powerful tools for data manipulation."
   ],
   "cell_type": "markdown",
   "metadata": {}
  },
  {
   "source": [
    "### 5. Data Repository\n",
    "\n",
    "There are a host of options available for storing and persisting data. We can choose between any one of them as the requirements of this project are fairly limited. Most of the data will be collected and processed as a one-time activity and there will not be much ongoing changes to it.\n",
    "\n",
    "#### a. Technology Choice\n",
    "\n",
    "We will use **IBM Cloud Storage** as the persistent data storage platform for this project.\n",
    "\n",
    "#### b. Justification\n",
    "\n",
    "IBM Cloud Storage provides an easy way to store and access data and can be scaled as per the requirements of the project."
   ],
   "cell_type": "markdown",
   "metadata": {}
  },
  {
   "source": [
    "### 6. Discovery and Exploration\n",
    "\n",
    "Data discovery and exploration is one of the most integral steps of any data analysis project. In our specific case, we need to understand the characteristics of the Amazon Customer Review data in terms of natural language processing.\n",
    "\n",
    "#### a. Technology Choice\n",
    "\n",
    "We will be using Jupyter Notebooks as the primary technology and a number of Python packages such as **NLTK, scikit-learn, Keras, Spark, Matplotlib and WordCloud** for our data exploration.\n",
    "\n",
    "#### b. Justification\n",
    "\n",
    "The choice of packages and technology are driven by the need to analyze NLP data. NLTK provides a number of easy-to-implement methods for natural language processing. Similary, Keras and Spark also come with built-in functionalities that will be useful in transforming the data for machine learning."
   ],
   "cell_type": "markdown",
   "metadata": {}
  },
  {
   "source": [
    "### 7. Actionable Insights \n",
    "\n",
    "Most of the decisions taken during the course of this project will be made in an iterative manner as we complete the various steps and get deeper understanding of the data as well as the results of our analyses. The actionable insights will come from building and deploying suitable machine learning algorithms that will be able to predict the sentiments of customers who provide product reviews on Amazon's ecommerce platform.\n",
    "\n",
    "#### a. Technology Choice\n",
    "\n",
    "We will use **Keras** as the primary technlogy for our model development. Keras provides an abstraction layer on top of TensorFlow, one of the most widely used deep learning frameworks. Within Keras, we will be developing MLP and LSTM neural network models. **TensorBoard** will be used to monitor the performance of the models during and after training.\n",
    "\n",
    "#### b. Justification\n",
    "\n",
    "The reason for choosing **Keras** is that it is an open source techology that provides a number of powerful features and functionalities to define, train and test deep learning algorithms. It is also able to handle large datasets easily. \n",
    "\n",
    "We will be generating 2 different feature sets, one using **TF-IDF bag-of-words** while another which will convert the text into padded, vectorized word sequences. The former doesn't retain the ordering of words and hence we will train an **MLP neural network** while the latter feature set will be trained on an **LSTM neural network**.\n",
    "\n",
    "We will compare the performance of these methods using **binary accuracy** metric, as we are building a binary classifier with balanced class distributions."
   ],
   "cell_type": "markdown",
   "metadata": {}
  },
  {
   "source": [
    "### 8. Applications / Data Products\n",
    "\n",
    "Since this project only requires us to do a one-time analysis of existing data, we will not be creating a data product for its deployment. The results of our analysis will be presented to the stakeholders in an easy-to-replicate and distributable format.\n",
    "\n",
    "#### a. Technology Choice\n",
    "\n",
    "We will use Jupyter Notebooks and slide presentations to present the results of our project.\n",
    "\n",
    "#### b. Justification\n",
    "\n",
    "Jupyter Notebooks are very versatile and can be used to present detailed analysis and graphical results along with the code to replicate the various steps used. "
   ],
   "cell_type": "markdown",
   "metadata": {}
  },
  {
   "source": [
    "### 9. Security, Information Governance and Systems Management\n",
    "\n",
    "Security and governance are an important consideration for any enterprise project. In this specific project, since we are using open source data and we are not developing this project for any proprietary analysis, we will provide unrestricted access to the code as well as the results via Github.\n",
    "\n",
    "#### a. Technology Choice\n",
    "\n",
    "We will share the assets and analysis via Github.\n",
    "\n",
    "#### b. Justification\n",
    "\n",
    "Github is the world's most widely used platform for software development and version control. It provides all the functionality we need to control the access of our data and assets."
   ],
   "cell_type": "markdown",
   "metadata": {}
  },
  {
   "cell_type": "code",
   "execution_count": null,
   "metadata": {},
   "outputs": [],
   "source": []
  }
 ]
}