{
 "metadata": {
  "language_info": {
   "codemirror_mode": {
    "name": "ipython",
    "version": 3
   },
   "file_extension": ".py",
   "mimetype": "text/x-python",
   "name": "python",
   "nbconvert_exporter": "python",
   "pygments_lexer": "ipython3",
   "version": 3
  },
  "orig_nbformat": 2
 },
 "nbformat": 4,
 "nbformat_minor": 2,
 "cells": [
  {
   "source": [
    "# IBM Advanced Data Science Capstone Project\n",
    "## Sentiment Analysis of Amazon Customer Reviews\n",
    "### Harsh V Singh, Apr 2021"
   ],
   "cell_type": "markdown",
   "metadata": {}
  },
  {
   "source": [
    "## Architectural Decisions Document\n",
    "\n",
    "This document provides a comprehensive architectural overview of the system, and intends to capture the significant architectural decisions which have been made while designing and implementing this project."
   ],
   "cell_type": "markdown",
   "metadata": {}
  },
  {
   "source": [
    "### 1. Data Source\n",
    "\n",
    "The data that we are going to use in this project is sourced from a Kaggle user, Adam Bittlingmayer, who uploaded the data to the following Kaggle page - \n",
    "\n",
    "[Amazon Reviews for Sentiment Analysis](https://www.kaggle.com/bittlingmayer/amazonreviews)\n",
    "\n",
    "The dataset uploaded by Adam is modified for being used in a third-party tool called *fastText*. Since we would like to conduct our own analysis from scratch on the original data, we will use the link for the raw data provided in the description section of the page. This link points to a *Google Drive* folder which has the original training and test csv files for this dataset.\n",
    "\n",
    "[Xiang Zhang's Google Drive dir](https://drive.google.com/drive/folders/0Bz8a_Dbh9Qhbfll6bVpmNUtUcFdjYmF2SEpmZUZUcVNiMUw1TWN6RDV3a0JHT3kxLVhVR2M)\n",
    "\n",
    "The files are stored in **tar.gz** format on the drive with the following filename - **amazon_review_full_csv.tar.gz**.\n",
    "\n",
    "#### a. Technology Choice\n",
    "\n",
    "*No technology is required at this stage.*\n",
    "\n",
    "#### b. Justification\n",
    "\n",
    "We have manually identified the data source after reviewing various open-source datasets that were available. We reviewed the various datasets on platforms such as Kaggle and Qandl, and finally selected the Amazon reviews dataset as it pertains to a real-world, complex problem that can be addressed using data science and advanced machine learning. **Since the problem statement has been identified after picking the data source, we did not use any technology at this stage.**"
   ],
   "cell_type": "markdown",
   "metadata": {}
  },
  {
   "source": [
    "### 2. Enterprise Data\n",
    "\n",
    "Once we have identified the data source, we need to determine how to integrate this data into our project. Since the selected data source does not provide a recurring/ live stream of data, we only need to take a one-time dump from the external link and save the data to our local machine or cloud storage. \n",
    "\n",
    "#### a. Technology Choice\n",
    "\n",
    "As we are using IBM Watson for implementing the project, we will upload the data to a **Watson Cloud Object Storage** service linked to our project.\n",
    "\n",
    "#### b. Justification\n",
    "\n",
    "We have selected cloud storage in this case as this provides more flexibility in terms of accessing data from different locations. The size of the dataset is not large enough to make the cost of cloud storage a deterrent for our choice."
   ],
   "cell_type": "markdown",
   "metadata": {}
  },
  {
   "source": [
    "### 3. Streaming Analytics\n",
    "\n",
    "#### a. Technology Choice\n",
    "\n",
    "*No technology is required at this stage.*\n",
    "\n",
    "#### b. Justification\n",
    "\n",
    "This step is not applicable as our data source is static."
   ],
   "cell_type": "markdown",
   "metadata": {}
  },
  {
   "source": [
    "### 4. Data Integration\n",
    "\n",
    "#### a. Technology Choice\n",
    "\n",
    "#### b. Justification"
   ],
   "cell_type": "markdown",
   "metadata": {}
  },
  {
   "source": [
    "### 5. Data Repository\n",
    "\n",
    "#### a. Technology Choice\n",
    "\n",
    "#### b. Justification"
   ],
   "cell_type": "markdown",
   "metadata": {}
  },
  {
   "source": [
    "### 6. Discovery and Exploration\n",
    "\n",
    "#### a. Technology Choice\n",
    "\n",
    "#### b. Justification"
   ],
   "cell_type": "markdown",
   "metadata": {}
  },
  {
   "source": [
    "### 7. Actionable Insights \n",
    "\n",
    "#### a. Technology Choice\n",
    "\n",
    "#### b. Justification"
   ],
   "cell_type": "markdown",
   "metadata": {}
  },
  {
   "source": [
    "### 8. Applications / Data Products\n",
    "\n",
    "#### a. Technology Choice\n",
    "\n",
    "#### b. Justification"
   ],
   "cell_type": "markdown",
   "metadata": {}
  },
  {
   "source": [
    "### 9. Security, Information Governance and Systems Management\n",
    "\n",
    "#### a. Technology Choice\n",
    "\n",
    "#### b. Justification"
   ],
   "cell_type": "markdown",
   "metadata": {}
  },
  {
   "cell_type": "code",
   "execution_count": null,
   "metadata": {},
   "outputs": [],
   "source": []
  }
 ]
}